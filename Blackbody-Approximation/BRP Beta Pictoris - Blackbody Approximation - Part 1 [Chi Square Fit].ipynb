{
 "cells": [
  {
   "cell_type": "markdown",
   "id": "4c27c652",
   "metadata": {},
   "source": [
    "## Step 0: Importing the Appropriate Packages"
   ]
  },
  {
   "cell_type": "code",
   "execution_count": 1,
   "id": "f9ab893c",
   "metadata": {},
   "outputs": [],
   "source": [
    "import numpy as np\n",
    "import matplotlib.pyplot as plt\n",
    "import scipy\n",
    "import astropy\n",
    "import emcee\n",
    "import corner\n",
    "import os\n",
    "import glob\n",
    "\n",
    "import astropy.constants as ac\n",
    "from astropy import units as u\n",
    "from astropy.convolution import Gaussian1DKernel, convolve\n",
    "from astropy.modeling import models\n",
    "from astropy.visualization import quantity_support\n",
    "from scipy.optimize import minimize\n",
    "from scipy import interpolate"
   ]
  },
  {
   "cell_type": "markdown",
   "id": "000bcfe4",
   "metadata": {},
   "source": [
    "## Step 1: Importing Data and Changing the Units of the Variables\n",
    "\n",
    "We'll first import and read the following data:\n",
    "\n",
    "1. chen+07_slshlh.dat; This contains the Spitzer IRS spectrum of BetaPic from ~5-35 microns. \n",
    "\n",
    "2. betapic_fluxes.dat; This contains assorted photometry from the optical and infrared with BetaPic. \n",
    "\n",
    "3. betapic_lws_cnt3_.txt; This contains the ISO LWS spectrum of BetaPic, from ~43 to 160 microns.\n",
    "\n",
    "### 1.1: Using the correct folders to pull the data from and to put the data in"
   ]
  },
  {
   "cell_type": "code",
   "execution_count": 11,
   "id": "41c81860",
   "metadata": {},
   "outputs": [],
   "source": [
    "# first the main directory\n",
    "cwd = os.getcwd()\n",
    "\n",
    "# then the appropriate folders inside this main directory\n",
    "Photom_IRS = cwd + \"\\\\data\\\\betapic_data\\DiskModels\\Debris\\BetaPic\" # where the photometry and IRS Spectrum is found\n",
    "LWS = cwd + \"\\\\data\\\\betapic_data\\DiskModels\\Debris\\BetaPic\\iso\\hpdp_62003530_3\" # where the LWS Spectrum is found\n",
    "\n",
    "Ice = cwd + \"\\\\data\\\\water_ice_opacities_lsbrp\" # where the different opacity files are found\n",
    "Silicates = cwd + \"\\\\data\\\\silicates_for_betapic\" # where the different silicate files are found"
   ]
  },
  {
   "cell_type": "markdown",
   "id": "e6e553c8",
   "metadata": {},
   "source": [
    "### 1.2: Importing the Data "
   ]
  },
  {
   "cell_type": "code",
   "execution_count": 12,
   "id": "ae4dae90",
   "metadata": {},
   "outputs": [
    {
     "ename": "FileNotFoundError",
     "evalue": "[WinError 3] Het systeem kan het opgegeven pad niet vinden: 'C:\\\\Users\\\\SPJHe\\\\Downloads\\\\BRP\\\\data\\\\betapic_data\\\\DiskModels\\\\Debris\\\\BetaPic\\\\iso\\\\hpdp_62003530_3\\\\data\\\\betapic_data\\\\DiskModels\\\\Debris\\\\BetaPic'",
     "output_type": "error",
     "traceback": [
      "\u001b[1;31m---------------------------------------------------------------------------\u001b[0m",
      "\u001b[1;31mFileNotFoundError\u001b[0m                         Traceback (most recent call last)",
      "\u001b[1;32m<ipython-input-12-6f5b903062ef>\u001b[0m in \u001b[0;36m<module>\u001b[1;34m\u001b[0m\n\u001b[0;32m      1\u001b[0m \u001b[1;31m# Changing directory to the photometry and IRS Spectrum files\u001b[0m\u001b[1;33m\u001b[0m\u001b[1;33m\u001b[0m\u001b[1;33m\u001b[0m\u001b[0m\n\u001b[1;32m----> 2\u001b[1;33m \u001b[0mos\u001b[0m\u001b[1;33m.\u001b[0m\u001b[0mchdir\u001b[0m\u001b[1;33m(\u001b[0m\u001b[0mPhotom_IRS\u001b[0m\u001b[1;33m)\u001b[0m\u001b[1;33m\u001b[0m\u001b[1;33m\u001b[0m\u001b[0m\n\u001b[0m\u001b[0;32m      3\u001b[0m \u001b[1;33m\u001b[0m\u001b[0m\n\u001b[0;32m      4\u001b[0m \u001b[1;31m# Columns are all labelled (wavelength in microns, flux (F_nu) and uncertainty in Janskys, (Jy)).\u001b[0m\u001b[1;33m\u001b[0m\u001b[1;33m\u001b[0m\u001b[1;33m\u001b[0m\u001b[0m\n\u001b[0;32m      5\u001b[0m \u001b[0mSpitzer_IRS\u001b[0m \u001b[1;33m=\u001b[0m \u001b[0mnp\u001b[0m\u001b[1;33m.\u001b[0m\u001b[0mloadtxt\u001b[0m\u001b[1;33m(\u001b[0m\u001b[1;34m'chen+07_slshlh.dat'\u001b[0m\u001b[1;33m)\u001b[0m\u001b[1;33m\u001b[0m\u001b[1;33m\u001b[0m\u001b[0m\n",
      "\u001b[1;31mFileNotFoundError\u001b[0m: [WinError 3] Het systeem kan het opgegeven pad niet vinden: 'C:\\\\Users\\\\SPJHe\\\\Downloads\\\\BRP\\\\data\\\\betapic_data\\\\DiskModels\\\\Debris\\\\BetaPic\\\\iso\\\\hpdp_62003530_3\\\\data\\\\betapic_data\\\\DiskModels\\\\Debris\\\\BetaPic'"
     ]
    }
   ],
   "source": [
    "# Changing directory to the photometry and IRS Spectrum files\n",
    "os.chdir(Photom_IRS)\n",
    "\n",
    "# Columns are all labelled (wavelength in microns, flux (F_nu) and uncertainty in Janskys, (Jy)).\n",
    "Spitzer_IRS = np.loadtxt('chen+07_slshlh.dat')\n",
    "Wavelength_IRS, Flux_IRS_Jy, Error_IRS_Jy = Spitzer_IRS[:,0], Spitzer_IRS[:,1], Spitzer_IRS[:,2]\n",
    "\n",
    "# Columns are formatted as wavelength (mircons), flux (F_nu, Jy), uncertainty (Jy).\n",
    "Photom = np.loadtxt('betapic_fluxes.dat')\n",
    "Wavelength_Photom, Flux_Photom_Jy, Error_Photom_Jy = Photom[:,0], Photom[:,1], Photom[:,2]\n",
    "\n",
    "\n",
    "# Changing directory to the LWS Spectrum file\n",
    "os.chdir(LWS)\n",
    "\n",
    "# Columns are formatted  as wavelength (microns), nu*F_nu (erg/cm^2/s), and uncertainty in nu*F_nu (same units).\n",
    "ISO_LWS = np.loadtxt('betapic_lws_cnt3_.txt')\n",
    "Wavelength_LWS, Flux_LWS, Error_LWS = ISO_LWS[:,0], ISO_LWS[:,1], ISO_LWS[:,2]"
   ]
  },
  {
   "cell_type": "markdown",
   "id": "48969122",
   "metadata": {},
   "source": [
    "### 1.3: Rewriting the units\n",
    "We need to convert the fluxes and error from Jansky to erg cm$^{-2}$ s$^{-1}$ . We know that 1 Jy equals to 10$^{23}$ erg cm$^{-2}$ s$^{-1}$ Hz$^{-1}$.\n",
    "\n",
    "Such that we get: erg cm$^{-2}$ s$^{-1}$ = 10$^{-23}$ Hz Jy"
   ]
  },
  {
   "cell_type": "code",
   "execution_count": 13,
   "id": "ea58e764",
   "metadata": {},
   "outputs": [],
   "source": [
    "# We can now calculate the flux using F = v*F_v (also making sure that the wavelength is in meters and not in microns)\n",
    "Flux_IRS = 10**(-23)*Flux_IRS_Jy*(ac.c.value/(Wavelength_IRS*10**(-6)))\n",
    "Flux_Photom = 10**(-23)*Flux_Photom_Jy*(ac.c.value/(Wavelength_Photom*10**(-6)))\n",
    "\n",
    "# We can now also calculate the error in the fluxes\n",
    "Error_IRS = 10**(-23)*Error_IRS_Jy*(ac.c.value/(Wavelength_IRS*10**(-6)))\n",
    "Error_Photom = 10**(-23)*Error_Photom_Jy*(ac.c.value/(Wavelength_Photom*10**(-6)))"
   ]
  },
  {
   "cell_type": "code",
   "execution_count": 14,
   "id": "7bd5a3c5",
   "metadata": {},
   "outputs": [],
   "source": [
    "# Making sure no flux is zero/negative\n",
    "Flux_IRS, Wavelength_IRS, Error_IRS = Flux_IRS[Flux_IRS>0], Wavelength_IRS[Flux_IRS>0], Error_IRS[Flux_IRS>0]\n",
    "Flux_Photom, Wavelength_Photom, Error_Photom = Flux_Photom[Flux_Photom>0], Wavelength_Photom[Flux_Photom>0], Error_Photom[Flux_Photom>0]\n",
    "\n",
    "# Removing the negative values\n",
    "Flux_LWS, Wavelength_LWS, Error_LWS = Flux_LWS[Flux_LWS>0], Wavelength_LWS[Flux_LWS>0], Error_LWS[Flux_LWS>0]\n",
    "\n",
    "# Removing the error equal to 0 from the photometry\n",
    "Error_Photom, Flux_Photom, Wavelength_Photom = Error_Photom[Error_Photom!=0], Flux_Photom[Error_Photom!=0], Wavelength_Photom[Error_Photom!=0]"
   ]
  },
  {
   "cell_type": "markdown",
   "id": "31252f9a",
   "metadata": {},
   "source": [
    "We need to convolve LWS Spectrum to smoothen it"
   ]
  },
  {
   "cell_type": "code",
   "execution_count": 15,
   "id": "203860ac",
   "metadata": {},
   "outputs": [],
   "source": [
    "# Create kernel & convolving lWS spectrum\n",
    "g = Gaussian1DKernel(stddev=3)\n",
    "z = convolve(Flux_LWS, g)\n",
    "\n",
    "# Removing the tail of the LWS spectrum [by trial and error]\n",
    "Wavelength_z, z, Error_z = Wavelength_LWS[6:], z[6:], Error_LWS[6:]"
   ]
  },
  {
   "cell_type": "markdown",
   "id": "bece1118",
   "metadata": {},
   "source": [
    "## Chi Squared Fit"
   ]
  },
  {
   "cell_type": "code",
   "execution_count": 16,
   "id": "ef0f2bae",
   "metadata": {},
   "outputs": [],
   "source": [
    "def spectrum(wave, x0):\n",
    "    \"\"\"Calculates the flux as (v*F_v [v = frequency]) for a given temperature and \n",
    "    a given solid angle. This model is equal to a blackbody\"\"\"\n",
    "    T, SolidAngle = x0\n",
    "\n",
    "    bb = models.BlackBody(temperature=T*u.K)\n",
    "    B_q = bb(wave*u.micron)\n",
    "    \n",
    "    F = (SolidAngle*u.sr)*B_q*(ac.c/(wave*u.micron))\n",
    "    return F.to(u.erg * u.cm**(-2) * u.s**(-1)).value\n",
    "\n",
    "\n",
    "def chi_sq(model, flux, error):\n",
    "    \"\"\"Calculates the chi squared value.\"\"\"\n",
    "    return np.sum(((model-flux)/error)**2)\n",
    "\n",
    "def chi_squared(x0, wave, flux, error):\n",
    "    \"\"\"Calculates the reduced chi^2 value for a given set of parameters and data points\n",
    "    (with the corresponding errors) for a certain model. This definition is for the \n",
    "    the determination of the reduced chi^2 value of the flux of a model.\"\"\"\n",
    "    F = spectrum(wave, x0)\n",
    "    chi = chi_sq(F, flux, error)\n",
    "    return chi/(len(F))"
   ]
  },
  {
   "cell_type": "code",
   "execution_count": 17,
   "id": "c3ec8866",
   "metadata": {},
   "outputs": [
    {
     "name": "stdout",
     "output_type": "stream",
     "text": [
      "Optimization terminated successfully.\n",
      "         Current function value: 397.953701\n",
      "         Iterations: 49\n",
      "         Function evaluations: 93\n",
      "Phi = [1.39056500e+02 3.17966007e-13]\n",
      "Chi = 397.9537012672416\n"
     ]
    }
   ],
   "source": [
    "# Fitting of the dust' spectrum\n",
    "phi = [130, 5*10**(-13)] # Chosen by trial and error\n",
    "\n",
    "\n",
    "estimates = minimize(fun=chi_squared, x0 = phi, args=(Wavelength_Photom[Wavelength_Photom>10],\n",
    "                                                      Flux_Photom[Wavelength_Photom>10], Error_Photom[Wavelength_Photom>10]),\n",
    "                     options={'disp':True}, method = 'Nelder-Mead')\n",
    "\n",
    "print('Phi =', estimates.x)\n",
    "print('Chi =', estimates.fun)"
   ]
  },
  {
   "cell_type": "code",
   "execution_count": null,
   "id": "d5bb73f7",
   "metadata": {},
   "outputs": [],
   "source": []
  }
 ],
 "metadata": {
  "kernelspec": {
   "display_name": "Python 3",
   "language": "python",
   "name": "python3"
  },
  "language_info": {
   "codemirror_mode": {
    "name": "ipython",
    "version": 3
   },
   "file_extension": ".py",
   "mimetype": "text/x-python",
   "name": "python",
   "nbconvert_exporter": "python",
   "pygments_lexer": "ipython3",
   "version": "3.8.8"
  }
 },
 "nbformat": 4,
 "nbformat_minor": 5
}
